{
 "cells": [
  {
   "cell_type": "code",
   "execution_count": 4,
   "id": "7fc71462-ada5-4c5d-b44a-fae01571dfca",
   "metadata": {},
   "outputs": [],
   "source": [
    "companies = [\n",
    "    {\"name\": \"Company 1\", \"domain\": \"Retail\", \"clients\": 2},\n",
    "    {\"name\": \"Company 2\", \"domain\": \"Construction\", \"clients\": 3},\n",
    "    {\"name\": \"Company 3\", \"domain\": \"Healthcare\", \"clients\": 4}\n",
    "]\n",
    "\n",
    "employees = [\n",
    "    {\"full_name\": \"John Doe\", \"company\": \"Company 1\"},\n",
    "    {\"full_name\": \"Tom Smith\", \"company\": \"Company 2\"},\n",
    "    {\"full_name\": \"Andrew Sebastian\", \"company\": \"Company 2\"}\n",
    "]"
   ]
  },
  {
   "cell_type": "code",
   "execution_count": 5,
   "id": "edd125c9-d9f3-410e-a10d-b267ce4a4ce4",
   "metadata": {},
   "outputs": [
    {
     "name": "stdout",
     "output_type": "stream",
     "text": [
      "[{'name': 'Company 1', 'domain': 'Retail'}, {'name': 'Company 3', 'domain': 'Healthcare'}, {'name': 'Company 2', 'domain': 'Construction'}]\n"
     ]
    }
   ],
   "source": [
    "def sort_company():\n",
    "    sorted_companies = sorted(companies, key=lambda x: x['domain'], reverse=True)\n",
    "    result = [{\"name\": company[\"name\"], \"domain\": company[\"domain\"]} for company in sorted_companies]\n",
    "    return result\n",
    "\n",
    "print(sort_company())\n"
   ]
  },
  {
   "cell_type": "code",
   "execution_count": 6,
   "id": "c0666b8f-15d7-4ef8-a1ca-ac08ec22b3d2",
   "metadata": {},
   "outputs": [
    {
     "name": "stdout",
     "output_type": "stream",
     "text": [
      "Company 1: Retail, relation: 2 clients\n",
      "Company 2: Construction, relation: 3 clients\n",
      "Company 3: Healthcare, relation: 4 clients\n"
     ]
    }
   ],
   "source": [
    "def get_company_domain():\n",
    "    for company in companies:\n",
    "        print(f'{company[\"name\"]}: {company[\"domain\"]}, relation: {company[\"clients\"]} clients')\n",
    "\n",
    "get_company_domain()\n"
   ]
  },
  {
   "cell_type": "code",
   "execution_count": 7,
   "id": "e0a3c29d-5685-419e-8096-e1d37862c5f9",
   "metadata": {},
   "outputs": [
    {
     "name": "stdout",
     "output_type": "stream",
     "text": [
      "[{'full_name': 'John Doe', 'company': 'Company 1', 'domain': 'Retail'}, {'full_name': 'Tom Smith', 'company': 'Company 2', 'domain': 'Construction'}, {'full_name': 'Andrew Sebastian', 'company': 'Company 2', 'domain': 'Construction'}]\n"
     ]
    }
   ],
   "source": [
    "def get_employees():\n",
    "    result = [\n",
    "        {\n",
    "            \"full_name\": employee[\"full_name\"],\n",
    "            \"company\": employee[\"company\"],\n",
    "            \"domain\": next((company[\"domain\"] for company in companies if company[\"name\"] == employee[\"company\"]), None)\n",
    "        }\n",
    "        for employee in employees\n",
    "    ]\n",
    "    return result\n",
    "\n",
    "print(get_employees())\n"
   ]
  },
  {
   "cell_type": "code",
   "execution_count": 8,
   "id": "cc0655f4-73b9-4344-b92f-dce69db53711",
   "metadata": {},
   "outputs": [
    {
     "name": "stdout",
     "output_type": "stream",
     "text": [
      "[{'company': 'Company 1', 'employees': ['John Doe']}, {'company': 'Company 2', 'employees': ['Tom Smith', 'Andrew Sebastian']}, {'company': 'Company 3', 'employees': []}]\n"
     ]
    }
   ],
   "source": [
    "def get_employees_by_company():\n",
    "    result = [\n",
    "        {\n",
    "            \"company\": company[\"name\"],\n",
    "            \"employees\": [employee[\"full_name\"] for employee in employees if employee[\"company\"] == company[\"name\"]]\n",
    "        }\n",
    "        for company in companies\n",
    "    ]\n",
    "    return result\n",
    "\n",
    "print(get_employees_by_company())\n"
   ]
  },
  {
   "cell_type": "code",
   "execution_count": 33,
   "id": "dd4eb8b9-f3f8-4196-97b7-29852463d385",
   "metadata": {},
   "outputs": [
    {
     "ename": "SyntaxError",
     "evalue": "(unicode error) 'unicodeescape' codec can't decode bytes in position 6-7: truncated \\UXXXXXXXX escape (739074313.py, line 5)",
     "output_type": "error",
     "traceback": [
      "\u001b[1;36m  Cell \u001b[1;32mIn[33], line 5\u001b[1;36m\u001b[0m\n\u001b[1;33m    data_startup = pd.read_csv('python\\UTS\\.ipynb_checkpoints\\50_Startups-checkpoint.csv')\u001b[0m\n\u001b[1;37m                               ^\u001b[0m\n\u001b[1;31mSyntaxError\u001b[0m\u001b[1;31m:\u001b[0m (unicode error) 'unicodeescape' codec can't decode bytes in position 6-7: truncated \\UXXXXXXXX escape\n"
     ]
    }
   ],
   "source": [
    "import pandas as pd\n",
    "from sklearn.preprocessing import OneHotEncoder, StandardScaler\n",
    "\n",
    "# Membaca data dari CSV\n",
    "data_startup = pd.read_csv('python\\UTS\\.ipynb_checkpoints\\50_Startups-checkpoint.csv')\n",
    "\n",
    "# Menampilkan beberapa sampel data\n",
    "print(data_startup.sample(7))\n",
    "\n",
    "# Mengisi nilai NaN dengan mean\n",
    "data_startup.fillna(data_startup.mean(), inplace=True)\n",
    "\n",
    "# OneHotEncoder untuk field 'State'\n",
    "one_hot_encoder = OneHotEncoder()\n",
    "state_encoded = one_hot_encoder.fit_transform(data_startup[['State']]).toarray()\n",
    "\n",
    "# Menambahkan hasil OneHotEncoder ke dalam DataFrame\n",
    "state_encoded_df = pd.DataFrame(state_encoded, columns=one_hot_encoder.get_feature_names_out(['State']))\n",
    "data_startup = pd.concat([data_startup, state_encoded_df], axis=1)\n",
    "data_startup.drop('State', axis=1, inplace=True)\n",
    "\n",
    "# Menambahkan field 'Tax'\n",
    "data_startup['Tax'] = (data_startup['Profit'] + data_startup['Marketing Spend'] + data_startup['Administration']) * 0.05\n",
    "\n",
    "# StandardScaler untuk field-field yang relevan\n",
    "scaler = StandardScaler()\n",
    "fields_to_scale = ['R&D Spend', 'Administration', 'Marketing Spend', 'Profit', 'Tax']\n",
    "data_startup[fields_to_scale] = scaler.fit_transform(data_startup[fields_to_scale])\n",
    "\n",
    "print(data_startup.head())\n"
   ]
  },
  {
   "cell_type": "code",
   "execution_count": 12,
   "id": "5d5d1e8c-c427-4972-b5df-cae84315cb71",
   "metadata": {},
   "outputs": [],
   "source": [
    "import pandas as "
   ]
  },
  {
   "cell_type": "code",
   "execution_count": 13,
   "id": "8755e666-de0b-48a8-8ad3-6d396a7db639",
   "metadata": {},
   "outputs": [
    {
     "name": "stdout",
     "output_type": "stream",
     "text": [
      "2.2.2\n"
     ]
    }
   ],
   "source": [
    "import pandas as pd\n",
    "print(pd.__version__)"
   ]
  },
  {
   "cell_type": "code",
   "execution_count": 17,
   "id": "645127f7-5959-4881-84e6-7b39e37cc9d7",
   "metadata": {},
   "outputs": [
    {
     "name": "stdout",
     "output_type": "stream",
     "text": [
      "scikit-learn berhasil diimpor\n"
     ]
    }
   ],
   "source": [
    "from sklearn.preprocessing import OneHotEncoder, StandardScaler\n",
    "print(\"scikit-learn berhasil diimpor\")"
   ]
  },
  {
   "cell_type": "code",
   "execution_count": null,
   "id": "b87ed61d-4991-4ea2-ac6f-0f3e4bd90ea6",
   "metadata": {},
   "outputs": [],
   "source": []
  }
 ],
 "metadata": {
  "kernelspec": {
   "display_name": "Python 3 (ipykernel)",
   "language": "python",
   "name": "python3"
  },
  "language_info": {
   "codemirror_mode": {
    "name": "ipython",
    "version": 3
   },
   "file_extension": ".py",
   "mimetype": "text/x-python",
   "name": "python",
   "nbconvert_exporter": "python",
   "pygments_lexer": "ipython3",
   "version": "3.12.2"
  }
 },
 "nbformat": 4,
 "nbformat_minor": 5
}
